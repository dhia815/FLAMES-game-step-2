{
 "cells": [
  {
   "cell_type": "code",
   "execution_count": 2,
   "id": "3437590e",
   "metadata": {},
   "outputs": [],
   "source": [
    "def remove_common_characters_between_2_names(name_1, name_2):    # Take the 2 names as str:\n",
    "    # remove common characters:\n",
    "\n",
    "    for i in name_1.copy(): # take each letter in the first name \n",
    "        for j in name_2: # take each letter in the second name\n",
    "            if i == j: # if there is two identical characters in the first name and the second one ...\n",
    "                name_1.remove(i) # remove this character from the first name\n",
    "                name_2.remove(i) # and also remove it from the second one\n",
    "                break # and then we have to pass to another character and do the same thing\n",
    "\n",
    "    the_count_of_the_characters_that_are_left = len(name_1 + name_2) #  count the total number of remaining characters\n",
    "    return the_count_of_the_characters_that_are_left"
   ]
  },
  {
   "cell_type": "code",
   "execution_count": 37,
   "id": "6048e817",
   "metadata": {},
   "outputs": [
    {
     "name": "stdout",
     "output_type": "stream",
     "text": [
      "Name 1 : AJAY\n",
      "Name 2 : PRIYA\n",
      "Relationship status:  Friends\n"
     ]
    }
   ],
   "source": [
    "def FLAMES_game ():\n",
    "    FLAMES = [\"Friends\", \"Love\", \"Affection\", \"Marriage\", \"Enemy\", \"Siblings\"]\n",
    "    # Take 2 names from the user :\n",
    "    \n",
    "    name1 = input(\"Name 1 : \") # Take the first name from the user\n",
    "    name2 = input(\"Name 2 : \") # Take the second name from the user\n",
    "    name1 = name1.lower() # change uppercase letters into lowercase letters in the first name\n",
    "    name2 = name2.lower() # change uppercase letters into lowercase letters in the second name\n",
    "    name1 = list(name1) # change the first name from string into a list of characters\n",
    "    name2 = list(name2) # change the second name from string into a list of characters\n",
    "    \n",
    "    # remove common characters between 2 names :\n",
    "    n = remove_common_characters_between_2_names(name1, name2) # put the total number of characters remaining after removing common ones\n",
    "    index = 0 # set the index value to 0\n",
    "    count = 1 # set the count value to 1 as we are going to begin counting from 1\n",
    "    while len(FLAMES) > 1: # Repeate while the the FLAMES list doesn't have only one element\n",
    "        if index == len(FLAMES): # if the index value reches end of the FLAMES list\n",
    "            index = 0 # start the index from the beginning by set its value to 0\n",
    "        if count == n: # if after counting we reach the element with the ranking of n\n",
    "            del FLAMES[index] # delete this element\n",
    "            count = 1# and start counting again but this time start from the element that is after the deleted element\n",
    "            # because it will have the same index as the deleted element\n",
    "        else: # if not pass to the next element which will have:\n",
    "            index += 1 # an index of the present element's index + 1 (if it reaches the end of the FLAMES it will go back to 0)\n",
    "            count += 1 # a ranking of the present element's ranking + 1\n",
    "    print(\"Relationship status: \", FLAMES[0]) # show the result which is the element that haven't bee deleted\n",
    "    \n",
    "FLAMES_game()"
   ]
  },
  {
   "cell_type": "code",
   "execution_count": null,
   "id": "a90b69f0",
   "metadata": {},
   "outputs": [],
   "source": []
  }
 ],
 "metadata": {
  "kernelspec": {
   "display_name": "Python 3",
   "language": "python",
   "name": "python3"
  },
  "language_info": {
   "codemirror_mode": {
    "name": "ipython",
    "version": 3
   },
   "file_extension": ".py",
   "mimetype": "text/x-python",
   "name": "python",
   "nbconvert_exporter": "python",
   "pygments_lexer": "ipython3",
   "version": "3.8.8"
  }
 },
 "nbformat": 4,
 "nbformat_minor": 5
}
